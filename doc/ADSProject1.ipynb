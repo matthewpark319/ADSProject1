{
 "cells": [
  {
   "cell_type": "code",
   "execution_count": null,
   "metadata": {},
   "outputs": [],
   "source": [
    "import itertools\n",
    "import json\n",
    "\n",
    "import nltk\n",
    "import numpy as np\n",
    "import pandas as pd\n",
    "import matplotlib.pyplot as plt\n",
    "import wordcloud\n",
    "\n",
    "stopwords = set(nltk.corpus.stopwords.words('english'))\n",
    "stem_func = nltk.PorterStemmer().stem\n",
    "\n",
    "df = pd.read_csv('C:/Users/matth/Desktop/ADSProject1/data/philosophy_data.csv')\n",
    "df['tokenized_txt_list'] = df['tokenized_txt'].apply(\n",
    "    lambda x: [stem_func(word) for word in json.loads(x.replace(\"'\", \"\\\"\")) if word not in stopwords])\n",
    "\n",
    "df['century'] = (df['original_publication_date'] // 100) * 100\n",
    "df.loc[df['century'] < 1600, 'century'] = -1000000"
   ]
  },
  {
   "cell_type": "code",
   "execution_count": null,
   "metadata": {},
   "outputs": [],
   "source": [
    "fig, ax = plt.subplots(nrows=1, ncols=3, constrained_layout=True, figsize=(10, 3))\n",
    "group = 'century'\n",
    "plt.suptitle(f'Overview of philosophy text corpus, by {group}')\n",
    "\n",
    "df.groupby(group)['title'].nunique().plot(kind='bar', title=f'Unique titles per {group}', ax=ax[0])\n",
    "df.groupby(group)['author'].nunique().plot(kind='bar', title=f'Unique authors per {group}', ax=ax[1])\n",
    "\n",
    "words_by_group = df.groupby(group)['tokenized_txt_list'].apply(lambda x: list(itertools.chain.from_iterable(x)))\n",
    "words_by_group.apply(len).plot(kind='bar', title=f'Number of words per {group}', ax=ax[2])\n",
    "\n",
    "for i in range(len(ax)):\n",
    "    ax[i].set_xticklabels(['pre-1600'] + list(ax[i].get_xticklabels()[1:]), rotation=45, ha='right')"
   ]
  },
  {
   "cell_type": "markdown",
   "metadata": {},
   "source": [
    "The corpus has data from the centuries 1600, 1700, 1800, and 1900, while the rest is from as far back as 350 BC. It has disproportionately more text from the 1900's."
   ]
  },
  {
   "cell_type": "code",
   "execution_count": null,
   "metadata": {},
   "outputs": [],
   "source": [
    "fig, ax = plt.subplots(nrows=1, ncols=3, constrained_layout=True, figsize=(12, 4))\n",
    "group = 'school'\n",
    "plt.suptitle(f'Overview of philosophy text corpus, by {group}')\n",
    "\n",
    "df.groupby(group)['title'].nunique().plot(kind='bar', title=f'Unique titles per {group}', ax=ax[0])\n",
    "df.groupby(group)['author'].nunique().plot(kind='bar', title=f'Unique authors per {group}', ax=ax[1])\n",
    "\n",
    "words_by_group = df.groupby(group)['tokenized_txt_list'].apply(lambda x: list(itertools.chain.from_iterable(x)))\n",
    "words_by_group.apply(len).plot(kind='bar', title=f'Number of words per {group}', ax=ax[2])\n",
    "\n",
    "for i in range(len(ax)):\n",
    "    ax[i].set_xticklabels(ax[i].get_xticklabels(), rotation=45, ha='right')"
   ]
  },
  {
   "cell_type": "markdown",
   "metadata": {},
   "source": [
    "The data is well-diversified among different schools of thought."
   ]
  },
  {
   "cell_type": "code",
   "execution_count": null,
   "metadata": {},
   "outputs": [],
   "source": [
    "fig, ax = plt.subplots(nrows=words_by_group.shape[0], figsize=(10, 30), constrained_layout=True)\n",
    "\n",
    "wcs = []\n",
    "for i, (group_name, words) in enumerate(words_by_group.iteritems()):\n",
    "    words, counts = np.unique(words, return_counts=True)\n",
    "    wc = pd.DataFrame({'word': words, 'count': counts})\n",
    "    wc = wc[~wc['word'].isin(stopwords)].sort_values('count', ascending=False).iloc[:30,]\n",
    "    cloud = wordcloud.WordCloud(background_color='white').fit_words(wc.set_index('word')['count'].to_dict())\n",
    "    ax[i].imshow(cloud, interpolation='bilinear')\n",
    "    ax[i].set_title(f'Most common words from texts from {group_name} school of thought')\n",
    "\n",
    "for i in range(len(ax)):\n",
    "    ax[i].set_xticklabels(ax[i].get_xticklabels(), rotation=45, ha='right')"
   ]
  },
  {
   "cell_type": "markdown",
   "metadata": {},
   "source": [
    "An examination of the most common words in the corpus, broken down by school, shows that the texts share certain writing patterns. All schools use the word 'one' very often, to pose theoretical points that apply to individuals. Other common words follow along this line of theoretical phrasing, including words like 'would', 'thing', 'idea', and 'must'. After these words, the word clouds begin to diverge, as each school discusses a different focus of ideas."
   ]
  },
  {
   "cell_type": "code",
   "execution_count": null,
   "metadata": {},
   "outputs": [],
   "source": [
    "group = 'school'\n",
    "df['question'] = df['sentence_lowered'].str.contains('\\?')\n",
    "df['exclamation'] = df['sentence_lowered'].str.contains('!')\n",
    "df['contains_one'] = df['tokenized_txt_list'].apply(lambda words: 'one' in words)\n",
    "\n",
    "fig, ax = plt.subplots(ncols=2, figsize=(10, 4))\n",
    "for i, marking in enumerate(['question', 'exclamation']):\n",
    "    q_grouped = df.groupby([group, marking])['sentence_lowered'].count() / df.groupby(group)['sentence_lowered'].count()\n",
    "    col_to_plot = f'% {marking}'\n",
    "    q_proportions = q_grouped[q_grouped.index.get_level_values(marking) == True] \\\n",
    "        .reset_index().drop(marking, axis='columns').rename(columns={'sentence_lowered': col_to_plot})\n",
    "    \n",
    "    q_proportions.set_index(group)[col_to_plot].plot(\n",
    "        title=f\"Proportion of sentences posed as {marking}s\", ax=ax[i], kind='bar')\n",
    "\n",
    "    ax[i].set_xticklabels(ax[i].get_xticklabels(), rotation=45, ha='right')"
   ]
  },
  {
   "cell_type": "markdown",
   "metadata": {},
   "source": [
    "The frequency of questions differs considerably across different schools. Plato texs seems to raise questions in his writing the most often. Nietchze texts are the most dramatic and expressive. "
   ]
  },
  {
   "cell_type": "code",
   "execution_count": null,
   "metadata": {},
   "outputs": [],
   "source": [
    "df['decade'] = (df['original_publication_date'] // 10) * 10\n",
    "decades = df.loc[df['original_publication_date'] >= 1600].groupby('decade')['sentence_length']\n",
    "decades.agg(['mean', 'median']).plot(\n",
    "    title='Sentence length over time',\n",
    "    ylabel='Words per sentence')"
   ]
  },
  {
   "cell_type": "code",
   "execution_count": null,
   "metadata": {},
   "outputs": [],
   "source": [
    "one = df.groupby(['century', 'contains_one']).count()['sentence_lowered'].groupby(level=0).transform(lambda x: x / x.sum())\n",
    "one[(one.index.get_level_values(1) == True) & (one.index.get_level_values(0) >= 1600)] \\\n",
    "    .droplevel(1).plot(title=\"Frequency of sentences containing the word 'one' over time\", marker='o')"
   ]
  },
  {
   "cell_type": "markdown",
   "metadata": {},
   "source": [
    "Both sentence length and frequency of the word 'one' has decreased over time, showing a possible style change or shift in conventions as time passed."
   ]
  },
  {
   "cell_type": "code",
   "execution_count": null,
   "metadata": {},
   "outputs": [],
   "source": [
    "markings = ['question', 'exclamation']\n",
    "fig, ax = plt.subplots(nrows=1, ncols=len(markings), figsize=(8, 3), constrained_layout=True)\n",
    "for i, marking in enumerate(markings):\n",
    "    exclamations = df.groupby(['decade', marking]).count()['sentence_lowered'].groupby(level=0).transform(lambda x: x / x.sum())\n",
    "    exclamations[(exclamations.index.get_level_values(1) == True) & (exclamations.index.get_level_values(0) >= 1600)] \\\n",
    "        .droplevel(1).plot(ax=ax[i], title=f'Frequency of {marking} sentences over time')"
   ]
  },
  {
   "cell_type": "markdown",
   "metadata": {},
   "source": [
    "The frequency with which authors use question marks and exclamation points has varied over time, although there has not been a direct trend. This suggests that other than the trend of decreasing sentence length, philosophy writing shows a continuous stylistic evolution."
   ]
  },
  {
   "cell_type": "code",
   "execution_count": null,
   "metadata": {},
   "outputs": [],
   "source": [
    "fix, ax = plt.subplots(figsize=(30, 10))\n",
    "\n",
    "author_stems = {stem_func(author.lower()): author for author in df['author'].unique()}\n",
    "\n",
    "df['refd_authors'] = df['tokenized_txt_list'].apply(lambda l: list(set(l).intersection(set(author_stems.keys()))))\n",
    "refd_authors = df.loc[df['refd_authors'].str.len() > 0,\n",
    "                      ['refd_authors', 'sentence_lowered', 'century', 'question', 'exclamation', 'school']\n",
    "                     ].explode('refd_authors').rename(columns={'refd_authors': 'refd_author'})\n",
    "refd_authors['refd_author'] = refd_authors['refd_author'].apply(author_stems.get)\n",
    "author_freq_order = refd_authors.groupby(['refd_author'])['refd_author'].count().sort_values(ascending=False).index.to_list()\n",
    "colors = [plt.get_cmap('gist_ncar')(x) for x in np.linspace(0, 1, len(author_freq_order))]\n",
    "random.shuffle(colors)\n",
    "refd_authors_freq = refd_authors.groupby(['century', 'refd_author']).count()['sentence_lowered'] / df.groupby('century')['sentence_lowered'].count()\n",
    "refd_authors_freq.rename('referenced_authors').unstack()[author_freq_order].plot(\n",
    "    kind='bar', stacked=True, figsize=(10, 6), title='Frequency of philosopher references per sentence, by century', color=colors, ax=ax)\n",
    "ax.set_xticklabels(['pre-1600'] + list(ax.get_xticklabels()[1:]), rotation=45, ha='right')\n",
    "ax.legend(bbox_to_anchor=(-.4, 1.1), loc='upper left', ncol=1)"
   ]
  },
  {
   "cell_type": "markdown",
   "metadata": {},
   "source": [
    "The proportion of sentences that mention another philosopher has increased over time. Descartes, Kant, Aristotle, and Plato seem to have had consistent influence over these writings across multiple centuries. Plato's incredible tendency to question illuminates a reason why he had so much influence on future philosophers."
   ]
  },
  {
   "cell_type": "code",
   "execution_count": null,
   "metadata": {},
   "outputs": [],
   "source": [
    "group = 'school'\n",
    "\n",
    "significant_authors = ['Plato', 'Aristotle']\n",
    "fig, ax = plt.subplots(ncols=len(significant_authors), nrows=2, figsize=(10, 10), constrained_layout=True)\n",
    "plt.suptitle(\"Plato & Aristotle's influence\", y=1.1)\n",
    "for i, author in enumerate(significant_authors):\n",
    "    (refd_authors.loc[refd_authors['refd_author'] == author].groupby(group).count()['refd_author'] / df.groupby(group)['sentence_lowered'].count()) \\\n",
    "        .plot(kind='bar', ax=ax[i, 0], title=f'Proportion of sentences mentioning {author}')\n",
    "    \n",
    "    plato_questions = refd_authors.loc[refd_authors['refd_author'] == author].groupby([group, 'question']).count()\n",
    "    plato_by_century = plato_questions['sentence_lowered'].groupby(level=0).transform(lambda x: x / x.sum())\n",
    "    plato_by_century[plato_by_century.index.get_level_values(1)].droplevel(1).plot(\n",
    "        kind='bar', title=f'Proportion of {author} mentions as questions', ax=ax[i, 1])\n",
    "    \n",
    "    ax[i, 0].set_xticklabels(ax[i, 0].get_xticklabels(), rotation=45, ha='right')\n",
    "    ax[i, 1].set_xticklabels(ax[i, 1].get_xticklabels(), rotation=45, ha='right')"
   ]
  },
  {
   "cell_type": "markdown",
   "metadata": {},
   "source": [
    "Greek philosophy has had a profound effect on the texts in this corpus. The continental and nietzche schools have referenced Plato the most, whereas rationalism has referenced Aristotle far and away the most. Writers from the empiricism school seem especially to raise questions on Greek philosophy. Plato and Aristotle have clearly made their marks on a huge range of thought."
   ]
  }
 ],
 "metadata": {
  "kernelspec": {
   "display_name": "Python 3",
   "language": "python",
   "name": "python3"
  },
  "language_info": {
   "codemirror_mode": {
    "name": "ipython",
    "version": 3
   },
   "file_extension": ".py",
   "mimetype": "text/x-python",
   "name": "python",
   "nbconvert_exporter": "python",
   "pygments_lexer": "ipython3",
   "version": "3.6.6"
  }
 },
 "nbformat": 4,
 "nbformat_minor": 2
}
